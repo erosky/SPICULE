{
 "cells": [
  {
   "cell_type": "code",
   "execution_count": null,
   "metadata": {},
   "outputs": [],
   "source": [
    "### Reading ncdf in python ###\n",
    "# Susanne Glienke\n",
    "\n",
    "# This is an example on how we read a ncdf-file of our meteorological data (IWG). Some of the columns had to be renamed to match other formats. \n",
    "# It opens the file (xr.open_dataset(filename)) and converts it into a dataframe, which we then use. \n",
    "# Helpful is also:\n",
    "# IWG = xr.open_dataset(filename)\n",
    "# print(IWG.info())\n",
    "# which gives you all the info of the ncdf file, since you don't know the variables beforehand. But generally, python can read ncdf files easily. \n",
    "\n",
    "\n",
    "import numpy as np\n",
    "import netCDF4\n",
    "import xarray as xr\n",
    "import pandas as pd\n",
    "\n",
    "master_length = []\n",
    "if filename.endswith('.nc'):\n",
    "    IWG = xr.open_dataset(filename).to_dataframe() # Navigation Data, and some met data \n",
    "    IWG = IWG.drop(columns=['base_time','wgs_alt','indicated_airspeed','mach_number','qc_flag','flag_ac','radar_alt',\n",
    "                            'sun_azimuth_ground','sun_azimuth_aircraft','cabin_temperature',\n",
    "                            'sun_elev_aircraft','solar_zenith_ground','time_offset','roll','pitch','drift','track',\n",
    "                            'angle_of_attack','side_slip','ground_speed','cabin_pressure','dynamic_pressure'])\n",
    "    IWG = IWG.rename(columns = {'base_time':'Time'}) \n",
    "    master_length = IWG['Time'].to_frame()\n",
    "    IWG.reset_index(inplace = True) \n",
    "else:\n",
    "    print('Please choose a supported file format!')\n",
    "    \n",
    "\n"
   ]
  }
 ],
 "metadata": {
  "kernelspec": {
   "display_name": "Python 3",
   "language": "python",
   "name": "python3"
  },
  "language_info": {
   "codemirror_mode": {
    "name": "ipython",
    "version": 3
   },
   "file_extension": ".py",
   "mimetype": "text/x-python",
   "name": "python",
   "nbconvert_exporter": "python",
   "pygments_lexer": "ipython3",
   "version": "3.8.5"
  }
 },
 "nbformat": 4,
 "nbformat_minor": 4
}
